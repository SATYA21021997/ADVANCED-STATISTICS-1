{
  "nbformat": 4,
  "nbformat_minor": 0,
  "metadata": {
    "colab": {
      "provenance": []
    },
    "kernelspec": {
      "name": "python3",
      "display_name": "Python 3"
    },
    "language_info": {
      "name": "python"
    }
  },
  "cells": [
    {
      "cell_type": "markdown",
      "source": [
        "ANSWER SHEET"
      ],
      "metadata": {
        "id": "gsDwxeyICXW9"
      }
    },
    {
      "cell_type": "markdown",
      "source": [],
      "metadata": {
        "id": "ExhG36YiALGi"
      }
    },
    {
      "cell_type": "markdown",
      "source": [
        "1.  What is a random variable in probability theory?"
      ],
      "metadata": {
        "id": "uyEY6t1FCZQj"
      }
    },
    {
      "cell_type": "markdown",
      "source": [
        "ANS - A random variable in probability theory is a variable whose values depend on the outcomes of a random phenomenon. Simply put, it's a way to quantify uncertain events."
      ],
      "metadata": {
        "id": "2Zl60ch5CeTN"
      }
    },
    {
      "cell_type": "markdown",
      "source": [
        "2.  What are the types of random variables?"
      ],
      "metadata": {
        "id": "uQAtoYGHCpKm"
      }
    },
    {
      "cell_type": "markdown",
      "source": [
        "ANS - There are two types of random variables:\n",
        "\n",
        "Discrete Random Variable: Takes on countable values. For example, the result of rolling a die (1, 2, 3, 4, 5, 6).\n",
        "\n",
        "Continuous Random Variable: Takes on an infinite number of possible values within a given range. For example, the exact height of students in a classroom."
      ],
      "metadata": {
        "id": "Z8BTjq5hCtWF"
      }
    },
    {
      "cell_type": "markdown",
      "source": [
        "3.  What is the difference between discrete and continuous distributions?"
      ],
      "metadata": {
        "id": "RNtTKoJfCydW"
      }
    },
    {
      "cell_type": "markdown",
      "source": [
        "ANS -\n",
        "Discrete Distributions\n",
        "Definition: Deal with discrete random variables that take on countable values.\n",
        "\n",
        "Examples: Binomial distribution, Poisson distribution.\n",
        "\n",
        "Visualization: Represented by probability mass functions (PMFs), which show the probabilities of specific outcomes.\n",
        "\n",
        "Usage: Ideal for scenarios involving counts (e.g., number of heads in coin tosses, number of customers arriving in a store).\n",
        "\n",
        "Continuous Distributions\n",
        "Definition: Deal with continuous random variables that take on an infinite number of possible values within a range.\n",
        "\n",
        "Examples: Normal distribution, Exponential distribution.\n",
        "\n",
        "Visualization: Represented by probability density functions (PDFs), which show the likelihood of a value falling within a particular interval.\n",
        "\n",
        "Usage: Suitable for scenarios involving measurements (e.g., heights of individuals, time taken to complete a task)."
      ],
      "metadata": {
        "id": "d8y1WmLKC2n_"
      }
    },
    {
      "cell_type": "markdown",
      "source": [
        "4.  What are probability distribution functions (PDF)?"
      ],
      "metadata": {
        "id": "gjCW-67cDCGc"
      }
    },
    {
      "cell_type": "markdown",
      "source": [
        "ANS - A Probability Density Function (PDF) is a function that describes the likelihood of a continuous random variable taking on a particular value."
      ],
      "metadata": {
        "id": "n2KM9BKqDIuG"
      }
    },
    {
      "cell_type": "markdown",
      "source": [
        "5.  How do cumulative distribution functions (CDF) differ from probability distribution functions (PDF)?"
      ],
      "metadata": {
        "id": "xNc6OazFDRge"
      }
    },
    {
      "cell_type": "markdown",
      "source": [
        "ANS - Probability Density Function (PDF)\n",
        "Definition: Represents the likelihood of a continuous random variable taking on a specific value.\n",
        "\n",
        "Purpose: Describes the shape of the distribution and helps visualize where the values are most likely to occur.\n",
        "\n",
        "Key Point: The area under the curve of the PDF between two points gives the probability that the random variable falls within that interval.\n",
        "\n",
        "Visualization: Shows the relative likelihood for each value of the random variable.\n",
        "\n",
        "Cumulative Distribution Function (CDF)\n",
        "Definition: Represents the probability that a continuous random variable will take a value less than or equal to a particular value.\n",
        "\n",
        "Purpose: Accumulates the probabilities up to a given point, making it easier to find the probability of a range of values.\n",
        "\n",
        "Key Point: The value of the CDF at a point\n",
        "𝑥\n",
        " is the area under the PDF curve from negative infinity to\n",
        "𝑥\n",
        ".\n",
        "\n",
        "Visualization: The CDF is a non-decreasing curve that ranges from 0 to 1, showing the cumulative probability for the values of the random variable."
      ],
      "metadata": {
        "id": "MHfJifeUDVvf"
      }
    },
    {
      "cell_type": "markdown",
      "source": [
        "6.  What is a discrete uniform distribution?\n"
      ],
      "metadata": {
        "id": "Wp0g1BBZDc7R"
      }
    },
    {
      "cell_type": "markdown",
      "source": [
        "ANS - A discrete uniform distribution is a type of probability distribution where each outcome in a finite set of equally spaced values has the same probability of occurring. In simpler terms, it's a distribution where every possible value is equally likely."
      ],
      "metadata": {
        "id": "lciUajfVDphA"
      }
    },
    {
      "cell_type": "markdown",
      "source": [
        "7.  What are the key properties of a Bernoulli distribution?\n"
      ],
      "metadata": {
        "id": "0BUCQtL9DrLt"
      }
    },
    {
      "cell_type": "markdown",
      "source": [
        "ANS - The Bernoulli distribution is one of the simplest and most fundamental discrete probability distributions. It describes a random experiment with exactly two possible outcomes: \"success\" and \"failure,\" often coded as 1 and 0, respectively.\n",
        "\n",
        "Key Properties:\n",
        "Outcomes:\n",
        "\n",
        "Success: Denoted by 1.\n",
        "\n",
        "Failure: Denoted by 0.\n",
        "\n",
        "Probability Mass Function (PMF): The PMF of a Bernoulli random variable\n",
        "𝑋\n",
        " is given by: $$ P(X = x) = p^x (1 - p)^{1 - x} \\text{ for } x \\in \\{0, 1\\} $$ where\n",
        "𝑝\n",
        " is the probability of success (0 ≤ p ≤ 1).\n",
        "\n",
        "Mean (Expected Value): The mean of a Bernoulli random variable is: $$ E(X) = p $$\n",
        "\n",
        "Variance: The variance of a Bernoulli random variable is: $$ \\text{Var}(X) = p(1 - p) $$\n",
        "\n",
        "Standard Deviation: The standard deviation is the square root of the variance: $$ \\sigma = \\sqrt{p(1 - p)} $$\n",
        "\n",
        "Moment Generating Function (MGF): The MGF\n",
        "𝑀\n",
        "𝑋\n",
        "(\n",
        "𝑡\n",
        ")\n",
        " of a Bernoulli random variable is: $$ M_X(t) = 1 - p + pe^t $$"
      ],
      "metadata": {
        "id": "jNsiYDNsDvge"
      }
    },
    {
      "cell_type": "markdown",
      "source": [
        "8.  What is the binomial distribution, and how is it used in probability?\n"
      ],
      "metadata": {
        "id": "e4HVyFIaD2zL"
      }
    },
    {
      "cell_type": "markdown",
      "source": [
        "ANS - The binomial distribution is a discrete probability distribution that describes the number of successes in a fixed number of independent and identically distributed Bernoulli trials, each with the same probability of success. In simpler terms, it models the number of times an event occurs in a given number of attempts, where each attempt has the same chance of success."
      ],
      "metadata": {
        "id": "RJdOahr5EBkg"
      }
    },
    {
      "cell_type": "markdown",
      "source": [
        "9.  What is the Poisson distribution and where is it applied?\n"
      ],
      "metadata": {
        "id": "EbulIRkSELqW"
      }
    },
    {
      "cell_type": "markdown",
      "source": [
        "ANS - The Poisson distribution is a discrete probability distribution that expresses the probability of a given number of events occurring in a fixed interval of time or space, provided these events happen with a known constant rate and independently of the time since the last event."
      ],
      "metadata": {
        "id": "x58B3nKtEO6t"
      }
    },
    {
      "cell_type": "markdown",
      "source": [
        "10.  What is a continuous uniform distribution?\n"
      ],
      "metadata": {
        "id": "93STJuC-EU-u"
      }
    },
    {
      "cell_type": "markdown",
      "source": [
        "ANS - A continuous uniform distribution is a type of probability distribution in which all outcomes are equally likely within a specified continuous range. It is often referred to as the \"rectangular distribution\" due to its flat, rectangular shape when graphed."
      ],
      "metadata": {
        "id": "WNxCU_r6EY64"
      }
    },
    {
      "cell_type": "markdown",
      "source": [
        "11.  What are the characteristics of a normal distribution?\n"
      ],
      "metadata": {
        "id": "Rcm2dbD5EdQO"
      }
    },
    {
      "cell_type": "markdown",
      "source": [
        "ANS- The normal distribution, also known as the Gaussian distribution, is one of the most important probability distributions in statistics. Here are its key characteristics:\n",
        "\n",
        "Key Characteristics:\n",
        "Bell-Shaped Curve: The normal distribution has a symmetrical, bell-shaped curve centered around its mean.\n",
        "\n",
        "Mean, Median, and Mode: The mean (\n",
        "𝜇\n",
        "), median, and mode of the distribution are all equal and located at the center of the distribution.\n",
        "\n",
        "Symmetry: The distribution is perfectly symmetrical about the mean. This means that the left half of the distribution is a mirror image of the right half.\n",
        "\n",
        "Empirical Rule (68-95-99.7 Rule):\n",
        "\n",
        "Approximately 68% of the data falls within one standard deviation (\n",
        "𝜎\n",
        ") of the mean.\n",
        "\n",
        "Approximately 95% of the data falls within two standard deviations of the mean.\n",
        "\n",
        "Approximately 99.7% of the data falls within three standard deviations of the mean.\n",
        "\n",
        "Tails: The tails of the normal distribution extend infinitely in both directions but never actually touch the horizontal axis. This implies that there is a non-zero probability of observing values far from the mean, though it is very low.\n",
        "\n",
        "Probability Density Function (PDF): The PDF of a normal distribution is given by: $$ f(x) = \\frac{1}{\\sqrt{2 \\pi \\sigma^2}} e^{-\\frac{(x - \\mu)2}{2\\sigma2}} $$ where\n",
        "𝜇\n",
        " is the mean and\n",
        "𝜎\n",
        " is the standard deviation."
      ],
      "metadata": {
        "id": "X1KiFYawEzeG"
      }
    },
    {
      "cell_type": "markdown",
      "source": [
        "12.  What is the standard normal distribution, and why is it important?"
      ],
      "metadata": {
        "id": "5W0C1xasFBBp"
      }
    },
    {
      "cell_type": "markdown",
      "source": [
        "ANS - The standard normal distribution is a special case of the normal distribution that has a mean of 0 and a standard deviation of 1. It is often denoted as\n",
        "𝑁\n",
        "(\n",
        "0\n",
        ",\n",
        "1\n",
        ")\n",
        ".\n",
        "\n",
        "Key Features:\n",
        "Mean (\n",
        "𝜇\n",
        "): 0\n",
        "\n",
        "Standard Deviation (\n",
        "𝜎\n",
        "): 1\n",
        "\n",
        "Probability Density Function (PDF): The PDF for the standard normal distribution is: $$ f(x) = \\frac{1}{\\sqrt{2 \\pi}} e{-\\frac{x2}{2}} $$\n",
        "\n",
        "Importance:\n",
        "Standardization:\n",
        "\n",
        "The standard normal distribution is used to transform any normal distribution into a standard normal distribution using the z-score formula: $$ z = \\frac{X - \\mu}{\\sigma} $$ where\n",
        "𝑋\n",
        " is a value from the original normal distribution,\n",
        "𝜇\n",
        " is the mean, and\n",
        "𝜎\n",
        " is the standard deviation.\n",
        "\n",
        "Simplifies Calculations:\n",
        "\n",
        "Once transformed, it allows for simpler calculations and easier interpretation of probabilities and percentiles.\n",
        "\n",
        "Z-Scores:\n",
        "\n",
        "Z-scores indicate how many standard deviations an element is from the mean. This standardization helps compare values from different normal distributions.\n",
        "\n",
        "Statistical Inference:\n",
        "\n",
        "Widely used in hypothesis testing and constructing confidence intervals. Many statistical tables and software tools are built around the standard normal distribution.\n",
        "\n",
        "Central Limit Theorem:\n",
        "\n",
        "The theorem states that the distribution of the sample mean will approach a normal distribution as the sample size becomes large, regardless of the population's distribution. This result is key to many inferential statistics techniques."
      ],
      "metadata": {
        "id": "UyOmnUO7FXcu"
      }
    },
    {
      "cell_type": "markdown",
      "source": [
        "13.  What is the Central Limit Theorem (CLT), and why is it critical in statistics?"
      ],
      "metadata": {
        "id": "MOz-7NsXFZKu"
      }
    },
    {
      "cell_type": "markdown",
      "source": [
        "ANS - The Central Limit Theorem (CLT) is a fundamental theorem in statistics that states that the distribution of the sample mean (or sum) of a large number of independent, identically distributed random variables approaches a normal distribution, regardless of the original distribution of the population, provided the sample size is sufficiently large.\n",
        "\n",
        "Importance:\n",
        "Foundation for Inferential Statistics:\n",
        "\n",
        "The CLT underpins many statistical methods, including hypothesis testing and confidence intervals. It allows us to make inferences about population parameters based on sample statistics.\n",
        "\n",
        "Simplifies Analysis:\n",
        "\n",
        "Regardless of the population's distribution, the sample mean's distribution will be approximately normal for large samples, making it easier to apply statistical techniques that assume normality.\n",
        "\n",
        "Practical Applications:\n",
        "\n",
        "Used extensively in quality control, survey sampling, finance, and many other fields where data is collected and analyzed to draw conclusions about larger populations."
      ],
      "metadata": {
        "id": "okXarz2BFeb-"
      }
    },
    {
      "cell_type": "markdown",
      "source": [
        "14.  How does the Central Limit Theorem relate to the normal distribution\n",
        "?"
      ],
      "metadata": {
        "id": "wlCl_tZJFzJ2"
      }
    },
    {
      "cell_type": "markdown",
      "source": [
        "ANS - The Central Limit Theorem (CLT) and the normal distribution are deeply interconnected in statistics. Here's how they relate:\n",
        "\n",
        "Central Limit Theorem (CLT) and Normal Distribution:\n",
        "Normal Approximation:\n",
        "\n",
        "The CLT states that the distribution of the sample mean (or sum) of a large number of independent, identically distributed random variables approaches a normal distribution, regardless of the original population distribution.\n",
        "\n",
        "Standard Normal Distribution:\n",
        "\n",
        "When we standardize the sample means using the z-score formula, the resulting distribution is the standard normal distribution,\n",
        "𝑁\n",
        "(\n",
        "0\n",
        ",\n",
        "1\n",
        ")\n",
        ".\n",
        "\n",
        "Application in Inferential Statistics:\n",
        "\n",
        "The CLT allows us to use normal distribution properties, such as standard deviation and z-scores, to make inferences about population parameters even when the population itself is not normally distributed.\n",
        "\n",
        "Empirical Rule (68-95-99.7 Rule):\n",
        "\n",
        "This rule applies to the normal distribution and is often utilized in conjunction with the CLT to determine the likelihood of sample means falling within specific intervals."
      ],
      "metadata": {
        "id": "RIyyu78kFtwM"
      }
    },
    {
      "cell_type": "markdown",
      "source": [
        "15.  What is the application of Z statistics in hypothesis testing?"
      ],
      "metadata": {
        "id": "4O5HNw9FGCzx"
      }
    },
    {
      "cell_type": "markdown",
      "source": [
        "ANS - Z statistics, also known as Z-scores, play a crucial role in hypothesis testing, particularly when dealing with large sample sizes. Here's how they are applied:\n",
        "\n",
        "Key Steps in Hypothesis Testing Using Z Statistics:\n",
        "Formulate Hypotheses:\n",
        "\n",
        "Null Hypothesis (\n",
        "𝐻\n",
        "0\n",
        "): This is the assumption that there is no effect or no difference. It represents the status quo.\n",
        "\n",
        "Alternative Hypothesis (\n",
        "𝐻\n",
        "1\n",
        "): This is what you want to test. It represents a new effect or a difference from the status quo.\n",
        "\n",
        "Select Significance Level (\n",
        "𝛼\n",
        "):\n",
        "\n",
        "Commonly used significance levels are 0.05, 0.01, or 0.10. It represents the probability of rejecting the null hypothesis when it is true.\n",
        "\n",
        "Calculate the Z-Score:\n",
        "\n",
        "The Z-score measures how many standard deviations a sample statistic is from the population parameter under the null hypothesis. The formula is: $$ Z = \\frac{\\overline{X} - \\mu_0}{\\frac{\\sigma}{\\sqrt{n}}} $$ where\n",
        "𝑋\n",
        "‾\n",
        " is the sample mean,\n",
        "𝜇\n",
        "0\n",
        " is the population mean under the null hypothesis,\n",
        "𝜎\n",
        " is the population standard deviation, and\n",
        "𝑛\n",
        " is the sample size.\n",
        "\n",
        "Determine the Critical Value:\n",
        "\n",
        "Based on the significance level and the nature of the test (one-tailed or two-tailed), find the critical Z-value from the standard normal distribution table.\n",
        "\n",
        "Make a Decision:\n",
        "\n",
        "Compare the calculated Z-score with the critical Z-value:\n",
        "\n",
        "If the Z-score is beyond the critical value in the direction of the alternative hypothesis, reject the null hypothesis.\n",
        "\n",
        "If the Z-score is within the critical value range, fail to reject the null hypothesis."
      ],
      "metadata": {
        "id": "tw5k7A8ZGJdq"
      }
    },
    {
      "cell_type": "markdown",
      "source": [
        "16.  How do you calculate a Z-score, and what does it represent\n",
        "?"
      ],
      "metadata": {
        "id": "dFtj33wcGP7n"
      }
    },
    {
      "cell_type": "markdown",
      "source": [
        "ANS - A Z-score, also known as a standard score, measures how many standard deviations a data point is from the mean of a data set. It's a way to standardize different data points for comparison, making it easier to understand their relative positions within the distribution.\n",
        "\n",
        "Formula to Calculate a Z-score:\n",
        "The Z-score\n",
        "𝑍\n",
        " for a data point\n",
        "𝑋\n",
        " is calculated using the formula: $$ Z = \\frac{X - \\mu}{\\sigma} $$ where:\n",
        "\n",
        "𝑋\n",
        " is the data point.\n",
        "\n",
        "𝜇\n",
        " is the mean of the data set.\n",
        "\n",
        "𝜎\n",
        " is the standard deviation of the data set.\n",
        "\n",
        "Interpretation of Z-scores:\n",
        "Positive Z-score: Indicates the data point is above the mean.\n",
        "\n",
        "Negative Z-score: Indicates the data point is below the mean.\n",
        "\n",
        "Z = 0: Indicates the data point is exactly at the mean."
      ],
      "metadata": {
        "id": "8fkhgZikGUgm"
      }
    },
    {
      "cell_type": "markdown",
      "source": [
        "17.  What are point estimates and interval estimates in statistics\n",
        "?"
      ],
      "metadata": {
        "id": "NGeUya9IGc9-"
      }
    },
    {
      "cell_type": "markdown",
      "source": [
        "ANS - In statistics, point estimates and interval estimates are two methods used to estimate population parameters based on sample data. Here's an overview:\n",
        "\n",
        "Point Estimates:\n",
        "Definition: A single value used to estimate an unknown population parameter.\n",
        "\n",
        "Characteristics:\n",
        "\n",
        "Provides a specific value as an estimate.\n",
        "\n",
        "Simple to calculate and interpret.\n",
        "\n",
        "Examples:\n",
        "\n",
        "Sample mean (\n",
        "𝑋\n",
        "‾\n",
        ") as an estimate of the population mean (\n",
        "𝜇\n",
        ").\n",
        "\n",
        "Sample proportion (\n",
        "𝑝\n",
        "^\n",
        ") as an estimate of the population proportion (\n",
        "𝑝\n",
        ").\n",
        "\n",
        "Usage: Point estimates are useful for providing a quick and precise estimate of a parameter, but they do not convey any information about the uncertainty or variability of the estimate.\n",
        "\n",
        "Interval Estimates:\n",
        "Definition: A range of values, called an interval, that is likely to contain the unknown population parameter.\n",
        "\n",
        "Characteristics:\n",
        "\n",
        "Provides a range within which the parameter is expected to lie.\n",
        "\n",
        "Accounts for sampling variability and uncertainty.\n",
        "\n",
        "Examples:\n",
        "\n",
        "Confidence interval for the population mean.\n",
        "\n",
        "Confidence interval for the population proportion.\n",
        "\n",
        "Usage: Interval estimates are more informative than point estimates because they provide a range of plausible values for the parameter and include a measure of confidence (e.g., 95% confidence interval)."
      ],
      "metadata": {
        "id": "E0FLGolEGngT"
      }
    },
    {
      "cell_type": "markdown",
      "source": [
        "18.  What is the significance of confidence intervals in statistical analysis\n",
        "?"
      ],
      "metadata": {
        "id": "Mu3HFR1NIqFH"
      }
    },
    {
      "cell_type": "markdown",
      "source": [
        "ANS - Confidence intervals are essential in statistical analysis because they provide a range of plausible values for an unknown population parameter, offering more information than a single point estimate. Here's why they are significant:\n",
        "\n",
        "Significance of Confidence Intervals:\n",
        "Measure of Precision:\n",
        "\n",
        "Confidence intervals give an indication of the precision of an estimate. A narrower interval suggests a more precise estimate, while a wider interval indicates more uncertainty.\n",
        "\n",
        "Account for Sampling Variability:\n",
        "\n",
        "They take into account the variability inherent in sampling. This means they provide a realistic range for the parameter, acknowledging that a point estimate alone may not capture the true value.\n",
        "\n",
        "Quantify Uncertainty:\n",
        "\n",
        "Confidence intervals offer a clear and understandable way to quantify the uncertainty in an estimate. This helps in assessing the reliability of the results.\n",
        "\n",
        "Decision-Making:\n",
        "\n",
        "In practical applications, confidence intervals guide decision-making by providing a range of likely values rather than a single number. For instance, in medical research, they can indicate the effectiveness of a new treatment.\n",
        "\n",
        "Hypothesis Testing:\n",
        "\n",
        "Confidence intervals are closely related to hypothesis testing. If the interval does not contain the null hypothesis value, it suggests that the null hypothesis may be rejected.\n",
        "\n",
        "Communicating Results:\n",
        "\n",
        "They are an effective way to communicate the results of statistical analysis to non-experts, as they provide a clear range of values along with the associated confidence level (e.g., 95%)."
      ],
      "metadata": {
        "id": "10F2n0eMIwh-"
      }
    },
    {
      "cell_type": "markdown",
      "source": [
        "19.  What is the relationship between a Z-score and a confidence interval?\n"
      ],
      "metadata": {
        "id": "bKrxset8I4Bl"
      }
    },
    {
      "cell_type": "markdown",
      "source": [
        "ANS - The relationship between a Z-score and a confidence interval is foundational in statistics, particularly when constructing confidence intervals for population parameters.\n",
        "\n",
        "Key Points of Relationship:\n",
        "Z-Score as a Critical Value:\n",
        "\n",
        "The Z-score is used to determine the critical values that correspond to the desired level of confidence.\n",
        "\n",
        "For example, for a 95% confidence interval, the critical Z-values are approximately\n",
        "±\n",
        "1.96\n",
        ".\n",
        "\n",
        "Confidence Interval Formula:\n",
        "\n",
        "The formula for constructing a confidence interval for a population mean (\n",
        "𝜇\n",
        ") when the population standard deviation (\n",
        "𝜎\n",
        ") is known is: $$ \\text{CI} = \\overline{X} \\pm Z_{\\alpha/2} \\cdot \\left(\\frac{\\sigma}{\\sqrt{n}}\\right) $$ where:\n",
        "\n",
        "𝑋\n",
        "‾\n",
        " is the sample mean.\n",
        "\n",
        "𝑍\n",
        "𝛼\n",
        "/\n",
        "2\n",
        " is the critical Z-score corresponding to the desired confidence level (e.g., 1.96 for 95% confidence).\n",
        "\n",
        "𝜎\n",
        " is the population standard deviation.\n",
        "\n",
        "𝑛\n",
        " is the sample size.\n",
        "\n",
        "Confidence Levels and Z-Scores:\n",
        "\n",
        "Common confidence levels and their corresponding Z-scores:\n",
        "\n",
        "90% confidence level:\n",
        "𝑍\n",
        "𝛼\n",
        "/\n",
        "2\n",
        "≈\n",
        "1.645\n",
        "\n",
        "95% confidence level:\n",
        "𝑍\n",
        "𝛼\n",
        "/\n",
        "2\n",
        "≈\n",
        "1.96\n",
        "\n"
      ],
      "metadata": {
        "id": "4Dc5lgP8I9a8"
      }
    },
    {
      "cell_type": "markdown",
      "source": [
        "20. How are Z-scores used to compare different distributions?"
      ],
      "metadata": {
        "id": "RevSgjocJEJw"
      }
    },
    {
      "cell_type": "markdown",
      "source": [
        "ANS - Z-scores are incredibly useful for comparing different distributions, even if they have different means and standard deviations. Here's how they work:\n",
        "\n",
        "Standardization:\n",
        "Z-scores standardize different distributions to a common scale by converting raw scores into the number of standard deviations away from the mean.\n",
        "\n",
        "This standardization allows for direct comparison of data points from different distributions.\n",
        "\n",
        "Formula for Z-score:\n",
        "The Z-score\n",
        "𝑍\n",
        " for a data point\n",
        "𝑋\n",
        " is calculated using the formula: $$ Z = \\frac{X - \\mu}{\\sigma} $$ where:\n",
        "\n",
        "𝑋\n",
        " is the data point.\n",
        "\n",
        "𝜇\n",
        " is the mean of the distribution.\n",
        "\n",
        "𝜎\n",
        " is the standard deviation of the distribution.\n",
        "\n",
        "Applications of Z-scores for Comparison:\n",
        "Comparing Test Scores: Imagine two students took different standardized tests with different scoring systems. By calculating their Z-scores, you can determine which student performed better relative to their respective groups.\n",
        "\n",
        "Quality Control: In manufacturing, Z-scores help compare the quality of products from different production lines or factories, even if they have different defect rates and variances.\n",
        "\n",
        "Healthcare: Z-scores can compare patient health metrics (like blood pressure, cholesterol levels) across different populations to assess relative health risks.\n",
        "\n",
        "Research: Comparing experimental results from different studies or groups, especially when the studies have different scales or measurement units."
      ],
      "metadata": {
        "id": "7VgYrxJ0JKCS"
      }
    },
    {
      "cell_type": "markdown",
      "source": [
        "21. What are the assumptions for applying the Central Limit Theorem?"
      ],
      "metadata": {
        "id": "TFA52eFCJQ04"
      }
    },
    {
      "cell_type": "markdown",
      "source": [
        "ANS - The Central Limit Theorem (CLT) has a few key assumptions that must be met for it to hold true. Here they are:\n",
        "\n",
        "Assumptions for the Central Limit Theorem:\n",
        "Independence:\n",
        "\n",
        "The sampled observations must be independent of each other. This means that the outcome of one observation does not affect the outcome of another.\n",
        "\n",
        "Identically Distributed:\n",
        "\n",
        "The random variables should be identically distributed, meaning they all come from the same probability distribution with the same mean and variance.\n",
        "\n",
        "Sample Size:\n",
        "\n",
        "The sample size should be sufficiently large. While there is no strict rule, a common guideline is\n",
        "𝑛\n",
        "≥\n",
        "30\n",
        ". However, if the population distribution is highly skewed or has heavy tails, a larger sample size may be needed."
      ],
      "metadata": {
        "id": "QH4Am13cJWfn"
      }
    },
    {
      "cell_type": "markdown",
      "source": [
        "22.  What is the concept of expected value in a probability distribution?"
      ],
      "metadata": {
        "id": "S3WFrgR-JgZ0"
      }
    },
    {
      "cell_type": "markdown",
      "source": [
        "ANS - The expected value, also known as the mean or expectation, is a fundamental concept in probability and statistics. It provides a measure of the central tendency of a random variable, indicating the average or typical value that the variable takes on over a large number of trials or observations.\n",
        "\n",
        "Definition:\n",
        "The expected value of a random variable\n",
        "𝑋\n",
        " is denoted by\n",
        "𝐸\n",
        "(\n",
        "𝑋\n",
        ")\n",
        " and is calculated differently for discrete and continuous random variables.\n",
        "\n",
        "For Discrete Random Variables:\n",
        "If\n",
        "𝑋\n",
        " is a discrete random variable with possible values\n",
        "𝑥\n",
        "1\n",
        ",\n",
        "𝑥\n",
        "2\n",
        ",\n",
        ".\n",
        ".\n",
        ".\n",
        ",\n",
        "𝑥\n",
        "𝑛\n",
        " and corresponding probabilities\n",
        "𝑃\n",
        "(\n",
        "𝑋\n",
        "=\n",
        "𝑥\n",
        "1\n",
        ")\n",
        ",\n",
        "𝑃\n",
        "(\n",
        "𝑋\n",
        "=\n",
        "𝑥\n",
        "2\n",
        ")\n",
        ",\n",
        ".\n",
        ".\n",
        ".\n",
        ",\n",
        "𝑃\n",
        "(\n",
        "𝑋\n",
        "=\n",
        "𝑥\n",
        "𝑛\n",
        ")\n",
        ", the expected value is: $$ E(X) = \\sum_{i=1}^{n} x_i \\cdot P(X = x_i) $$\n",
        "\n",
        "For Continuous Random Variables:\n",
        "If\n",
        "𝑋\n",
        " is a continuous random variable with probability density function (PDF)\n",
        "𝑓\n",
        "(\n",
        "𝑥\n",
        ")\n",
        ", the expected value is: $$ E(X) = \\int_{-\\infty}^{\\infty} x \\cdot f(x) \\, dx $$\n",
        "\n",
        "Key Points:\n",
        "Central Tendency: The expected value represents the long-run average or mean of the random variable.\n",
        "\n",
        "Weighted Average: For discrete variables, it is a weighted average of all possible values, where each value is weighted by its probability.\n",
        "\n",
        "Integral: For continuous variables, it is calculated using an integral over the entire range of possible values."
      ],
      "metadata": {
        "id": "UFHfBlqTJldO"
      }
    },
    {
      "cell_type": "markdown",
      "source": [
        "23.  How does a probability distribution relate to the expected outcome of a random variable?\n"
      ],
      "metadata": {
        "id": "fHOrDhWoJwrC"
      }
    },
    {
      "cell_type": "markdown",
      "source": [
        "ANS - A probability distribution is a mathematical function that provides the probabilities of occurrence of different possible outcomes for a random variable. The relationship between a probability distribution and the expected outcome of a random variable can be understood through the following points:\n",
        "\n",
        "1. Probability Distribution:\n",
        "Definition: A probability distribution describes how the values of a random variable are distributed. It can be discrete (specific values) or continuous (any value within a range).\n",
        "\n",
        "Purpose: It provides the probabilities associated with each possible value of the random variable.\n",
        "\n",
        "2. Expected Value:\n",
        "Definition: The expected value (or mean) of a random variable is the long-run average value it takes on over many trials or observations. It represents the central tendency of the distribution.\n",
        "\n",
        "Calculation: The expected value is calculated using the probabilities from the distribution, weighting each possible value by its probability."
      ],
      "metadata": {
        "id": "Dbkv7JXoJ2gK"
      }
    },
    {
      "cell_type": "code",
      "source": [],
      "metadata": {
        "id": "8oKQwMTDKDYz"
      },
      "execution_count": null,
      "outputs": []
    },
    {
      "cell_type": "code",
      "source": [],
      "metadata": {
        "id": "K6zlFc6DKDcN"
      },
      "execution_count": null,
      "outputs": []
    },
    {
      "cell_type": "code",
      "source": [],
      "metadata": {
        "id": "QS_JsK9OKDfF"
      },
      "execution_count": null,
      "outputs": []
    },
    {
      "cell_type": "markdown",
      "source": [
        "PRACTICAL QUESTIONS"
      ],
      "metadata": {
        "id": "ZRzUwmR8KEH_"
      }
    },
    {
      "cell_type": "code",
      "source": [],
      "metadata": {
        "id": "oxQv8N8tKI38"
      },
      "execution_count": null,
      "outputs": []
    },
    {
      "cell_type": "code",
      "source": [],
      "metadata": {
        "id": "ZuDct_4JKI7d"
      },
      "execution_count": null,
      "outputs": []
    },
    {
      "cell_type": "code",
      "source": [],
      "metadata": {
        "id": "XdBsZjLWKI-0"
      },
      "execution_count": null,
      "outputs": []
    },
    {
      "cell_type": "markdown",
      "source": [
        "1.  Write a Python program to generate a random variable and display its value\n",
        "."
      ],
      "metadata": {
        "id": "hPXqbLsLKJg0"
      }
    },
    {
      "cell_type": "code",
      "source": [
        "import random\n",
        "random_variable = random.randint(1, 100)\n",
        "print(f\"The generated random variable is: {random_variable}\")\n"
      ],
      "metadata": {
        "colab": {
          "base_uri": "https://localhost:8080/"
        },
        "id": "fQDN0oBdKUkp",
        "outputId": "9dd006c7-2a36-4993-d1e9-16779e257763"
      },
      "execution_count": null,
      "outputs": [
        {
          "output_type": "stream",
          "name": "stdout",
          "text": [
            "The generated random variable is: 29\n"
          ]
        }
      ]
    },
    {
      "cell_type": "code",
      "source": [],
      "metadata": {
        "id": "Wjw9xVpuKYFd"
      },
      "execution_count": null,
      "outputs": []
    },
    {
      "cell_type": "markdown",
      "source": [
        "2.  Generate a discrete uniform distribution using Python and plot the probability mass function (PMF)\n"
      ],
      "metadata": {
        "id": "JIWQEYUfLD5l"
      }
    },
    {
      "cell_type": "code",
      "source": [
        "import matplotlib.pyplot as plt\n",
        "import numpy as np\n",
        "\n",
        "low = 1\n",
        "high = 6\n",
        "\n",
        "values = np.arange(low, high + 1)\n",
        "probabilities = np.ones(len(values)) / len(values)\n",
        "\n",
        "plt.stem(values, probabilities, use_line_collection=True)\n",
        "plt.xlabel('Value')\n",
        "plt.ylabel('Probability')\n",
        "plt.title('Probability Mass Function (PMF) of Discrete Uniform Distribution')\n",
        "plt.ylim(0, 1)\n",
        "plt.grid(True)\n",
        "plt.show()"
      ],
      "metadata": {
        "id": "W_Ofi3TqLR7E"
      },
      "execution_count": null,
      "outputs": []
    },
    {
      "cell_type": "markdown",
      "source": [
        "3.  Write a Python function to calculate the probability distribution function (PDF) of a Bernoulli distribution\n"
      ],
      "metadata": {
        "id": "AEjFBCZJLcet"
      }
    },
    {
      "cell_type": "code",
      "source": [
        "def bernoulli_pmf(x, p):\n",
        "\n",
        "    if x not in [0, 1]:\n",
        "        raise ValueError(\"The outcome x must be either 0 or 1.\")\n",
        "\n",
        "    if p < 0 or p > 1:\n",
        "        raise ValueError(\"The probability p must be between 0 and 1.\")\n",
        "\n",
        "    return p if x == 1 else 1 - p\n",
        "\n",
        "p = 0.7\n",
        "print(f\"P(X=0): {bernoulli_pmf(0, p)}\")\n",
        "print(f\"P(X=1): {bernoulli_pmf(1, p)}\")\n"
      ],
      "metadata": {
        "colab": {
          "base_uri": "https://localhost:8080/"
        },
        "id": "JB3KKIzsLhuM",
        "outputId": "7ebe5c02-8d97-48f5-dbf9-1ea3de795515"
      },
      "execution_count": null,
      "outputs": [
        {
          "output_type": "stream",
          "name": "stdout",
          "text": [
            "P(X=0): 0.30000000000000004\n",
            "P(X=1): 0.7\n"
          ]
        }
      ]
    },
    {
      "cell_type": "code",
      "source": [],
      "metadata": {
        "id": "lec130N0Lqey"
      },
      "execution_count": null,
      "outputs": []
    },
    {
      "cell_type": "markdown",
      "source": [
        "4.  Write a Python script to simulate a binomial distribution with n=10 and p=0.5, then plot its histogram\n"
      ],
      "metadata": {
        "id": "V6TXeGiVLsHc"
      }
    },
    {
      "cell_type": "code",
      "source": [
        "import numpy as np\n",
        "import matplotlib.pyplot as plt\n",
        "\n",
        "\n",
        "n = 10\n",
        "p = 0.5\n",
        "num_samples = 1000\n",
        "\n",
        "samples = np.random.binomial(n, p, num_samples)\n",
        "\n",
        "plt.hist(samples, bins=np.arange(-0.5, n+1.5, 1), density=True, edgecolor='black', alpha=0.75)\n",
        "plt.xlabel('Number of successes')\n",
        "plt.ylabel('Probability')\n",
        "plt.title('Histogram of Binomial Distribution (n=10, p=0.5)')\n",
        "plt.xticks(range(n + 1))\n",
        "plt.grid(True)\n",
        "plt.show()\n"
      ],
      "metadata": {
        "colab": {
          "base_uri": "https://localhost:8080/",
          "height": 472
        },
        "id": "-bufAiTGLxXN",
        "outputId": "793f5e4b-5731-4d47-ad67-c55edfbcd25a"
      },
      "execution_count": null,
      "outputs": [
        {
          "output_type": "display_data",
          "data": {
            "text/plain": [
              "<Figure size 640x480 with 1 Axes>"
            ],
            "image/png": "[encoded data removed]"
          },
          "metadata": {}
        }
      ]
    },
    {
      "cell_type": "code",
      "source": [],
      "metadata": {
        "id": "alvb2RfyL55U"
      },
      "execution_count": null,
      "outputs": []
    },
    {
      "cell_type": "markdown",
      "source": [
        "5.  Create a Poisson distribution and visualize it using Python\n"
      ],
      "metadata": {
        "id": "yPiOVDMAL9S2"
      }
    },
    {
      "cell_type": "code",
      "source": [
        "import numpy as np\n",
        "import matplotlib.pyplot as plt\n",
        "\n",
        "\n",
        "lambda_param = 3\n",
        "num_samples = 1000\n",
        "\n",
        "samples = np.random.poisson(lambda_param, num_samples)\n",
        "\n",
        "plt.hist(samples, bins=range(0, max(samples) + 2), density=True, edgecolor='black', alpha=0.75)\n",
        "plt.xlabel('Number of events')\n",
        "plt.ylabel('Probability')\n",
        "plt.title(f'Poisson Distribution (λ={lambda_param})')\n",
        "plt.grid(True)\n",
        "plt.show()\n"
      ],
      "metadata": {
        "colab": {
          "base_uri": "https://localhost:8080/",
          "height": 472
        },
        "id": "ppc7Q-diMCx5",
        "outputId": "b7966196-32e4-4840-b2ba-9e3436cad472"
      },
      "execution_count": null,
      "outputs": [
        {
          "output_type": "display_data",
          "data": {
            "text/plain": [
              "<Figure size 640x480 with 1 Axes>"
            ],
            "image/png": "[encoded data removed]"
          },
          "metadata": {}
        }
      ]
    },
    {
      "cell_type": "code",
      "source": [],
      "metadata": {
        "id": "4mvgxEZdMKK9"
      },
      "execution_count": null,
      "outputs": []
    },
    {
      "cell_type": "markdown",
      "source": [
        "6.  Write a Python program to calculate and plot the cumulative distribution function (CDF) of a discrete uniform distribution\n",
        "\n"
      ],
      "metadata": {
        "id": "Y-57oaE2MXIh"
      }
    },
    {
      "cell_type": "code",
      "source": [
        "import numpy as np\n",
        "import matplotlib.pyplot as plt\n",
        "\n",
        "low = 1\n",
        "high = 6\n",
        "\n",
        "values = np.arange(low, high + 1)\n",
        "probabilities = np.ones(len(values)) / len(values)\n",
        "\n",
        "cumulative_probabilities = np.cumsum(probabilities)\n",
        "\n",
        "plt.step(values, cumulative_probabilities, where='post', linestyle='-', marker='o', color='b', label='CDF')\n",
        "plt.xlabel('Value')\n",
        "plt.ylabel('Cumulative Probability')\n",
        "plt.title('Cumulative Distribution Function (CDF) of Discrete Uniform Distribution')\n",
        "plt.ylim(0, 1.1)\n",
        "plt.grid(True)\n",
        "plt.legend()\n",
        "plt.show()\n"
      ],
      "metadata": {
        "colab": {
          "base_uri": "https://localhost:8080/",
          "height": 472
        },
        "id": "gBewRx0mMhRD",
        "outputId": "acda44d7-c08f-41b9-80be-28087cb014c6"
      },
      "execution_count": null,
      "outputs": [
        {
          "output_type": "display_data",
          "data": {
            "text/plain": [
              "<Figure size 640x480 with 1 Axes>"
            ],
            "image/png": "[encoded data removed]"
          },
          "metadata": {}
        }
      ]
    },
    {
      "cell_type": "code",
      "source": [],
      "metadata": {
        "id": "UWNilSBRMu57"
      },
      "execution_count": null,
      "outputs": []
    },
    {
      "cell_type": "markdown",
      "source": [
        "7.  Generate a continuous uniform distribution using NumPy and visualize it\n"
      ],
      "metadata": {
        "id": "xQ3bUTTaAOEd"
      }
    },
    {
      "cell_type": "code",
      "source": [
        "import numpy as np\n",
        "import matplotlib.pyplot as plt\n",
        "\n",
        "data = np.random.uniform(0, 1, 1000)\n",
        "\n",
        "plt.hist(data, bins=30, edgecolor='black')\n",
        "plt.title('Continuous Uniform Distribution')\n",
        "plt.xlabel('Value')\n",
        "plt.ylabel('Frequency')\n",
        "plt.show()\n",
        "\n"
      ],
      "metadata": {
        "colab": {
          "base_uri": "https://localhost:8080/",
          "height": 472
        },
        "id": "2ciNfIBNAXch",
        "outputId": "7e8e24a8-7660-4f51-f83c-23da57ea2ed0"
      },
      "execution_count": 3,
      "outputs": [
        {
          "output_type": "display_data",
          "data": {
            "text/plain": [
              "<Figure size 640x480 with 1 Axes>"
            ],
            "image/png": "[encoded data removed]"
          },
          "metadata": {}
        }
      ]
    },
    {
      "cell_type": "code",
      "source": [],
      "metadata": {
        "id": "7j0uhLWVAfgW"
      },
      "execution_count": null,
      "outputs": []
    },
    {
      "cell_type": "markdown",
      "source": [
        "8.  Simulate data from a normal distribution and plot its histogram.\n"
      ],
      "metadata": {
        "id": "2ibGJ6BzAuqg"
      }
    },
    {
      "cell_type": "code",
      "source": [
        "import numpy as np\n",
        "import matplotlib.pyplot as plt\n",
        "\n",
        "data = np.random.normal(0, 1, 1000)\n",
        "\n",
        "plt.hist(data, bins=30, edgecolor='black', density=True)\n",
        "plt.title('Normal Distribution')\n",
        "plt.xlabel('Value')\n",
        "plt.ylabel('Frequency')\n",
        "plt.show()\n"
      ],
      "metadata": {
        "colab": {
          "base_uri": "https://localhost:8080/",
          "height": 472
        },
        "id": "GEz6u23HA5jq",
        "outputId": "a440c553-bc01-4e22-b858-8bf14fcbfe7f"
      },
      "execution_count": 4,
      "outputs": [
        {
          "output_type": "display_data",
          "data": {
            "text/plain": [
              "<Figure size 640x480 with 1 Axes>"
            ],
            "image/png": "[encoded data removed]"
          },
          "metadata": {}
        }
      ]
    },
    {
      "cell_type": "code",
      "source": [],
      "metadata": {
        "id": "qZj-2pWhA8hj"
      },
      "execution_count": null,
      "outputs": []
    },
    {
      "cell_type": "markdown",
      "source": [
        "9.  Write a Python function to calculate Z-scores from a dataset and plot them\n"
      ],
      "metadata": {
        "id": "0M3DAsvXA-D1"
      }
    },
    {
      "cell_type": "code",
      "source": [
        "import numpy as np\n",
        "import matplotlib.pyplot as plt\n",
        "\n",
        "def calculate_z_scores(data):\n",
        "    mean = np.mean(data)\n",
        "    std_dev = np.std(data)\n",
        "    z_scores = (data - mean) / std_dev\n",
        "    return z_scores\n",
        "\n",
        "def plot_z_scores(z_scores):\n",
        "\n",
        "    plt.hist(z_scores, bins=30, edgecolor='black', density=True)\n",
        "    plt.title('Z-score Distribution')\n",
        "    plt.xlabel('Z-score')\n",
        "    plt.ylabel('Frequency')\n",
        "    plt.show()\n",
        "\n",
        "\n",
        "data = np.random.normal(0, 1, 1000)\n",
        "\n",
        "z_scores = calculate_z_scores(data)\n",
        "\n",
        "plot_z_scores(z_scores)\n"
      ],
      "metadata": {
        "colab": {
          "base_uri": "https://localhost:8080/",
          "height": 472
        },
        "id": "y5lbk7emBCTi",
        "outputId": "46d8e582-019b-401d-b0f4-797d37dc82f9"
      },
      "execution_count": 5,
      "outputs": [
        {
          "output_type": "display_data",
          "data": {
            "text/plain": [
              "<Figure size 640x480 with 1 Axes>"
            ],
            "image/png": "[encoded data removed]"
          },
          "metadata": {}
        }
      ]
    },
    {
      "cell_type": "code",
      "source": [],
      "metadata": {
        "id": "PQjWaWtMBSzU"
      },
      "execution_count": null,
      "outputs": []
    },
    {
      "cell_type": "markdown",
      "source": [
        "10.  Implement the Central Limit Theorem (CLT) using Python for a non-normal distribution.\n"
      ],
      "metadata": {
        "id": "u_jOnHxNBWDF"
      }
    },
    {
      "cell_type": "code",
      "source": [
        "import numpy as np\n",
        "import matplotlib.pyplot as plt\n",
        "\n",
        "sample_size = 1000\n",
        "num_samples = 10000\n",
        "\n",
        "data = np.random.uniform(0, 1, (num_samples, sample_size))\n",
        "\n",
        "sample_means = np.mean(data, axis=1)\n",
        "\n",
        "plt.hist(sample_means, bins=30, edgecolor='black', density=True)\n",
        "plt.title('Central Limit Theorem Demonstration')\n",
        "plt.xlabel('Sample Mean')\n",
        "plt.ylabel('Frequency')\n",
        "plt.show()\n"
      ],
      "metadata": {
        "colab": {
          "base_uri": "https://localhost:8080/",
          "height": 472
        },
        "id": "z17ACvR9Beho",
        "outputId": "2dfe2fa6-54ec-4d37-f57e-68d5b6fcbe30"
      },
      "execution_count": 6,
      "outputs": [
        {
          "output_type": "display_data",
          "data": {
            "text/plain": [
              "<Figure size 640x480 with 1 Axes>"
            ],
            "image/png": "[encoded data removed]"
          },
          "metadata": {}
        }
      ]
    },
    {
      "cell_type": "code",
      "source": [],
      "metadata": {
        "id": "FcFeqGZaBkDN"
      },
      "execution_count": null,
      "outputs": []
    },
    {
      "cell_type": "markdown",
      "source": [
        "11. Simulate multiple samples from a normal distribution and verify the Central Limit Theorem\n"
      ],
      "metadata": {
        "id": "36XgQZfvBm7F"
      }
    },
    {
      "cell_type": "code",
      "source": [
        "import numpy as np\n",
        "import matplotlib.pyplot as plt\n",
        "\n",
        "sample_size = 30\n",
        "num_samples = 1000\n",
        "mean = 0\n",
        "std_dev = 1\n",
        "\n",
        "sample_means = np.mean(np.random.normal(mean, std_dev, (num_samples, sample_size)), axis=1)\n",
        "\n",
        "plt.hist(sample_means, bins=30, edgecolor='black', density=True)\n",
        "plt.title('Verification of Central Limit Theorem')\n",
        "plt.xlabel('Sample Mean')\n",
        "plt.ylabel('Frequency')\n",
        "plt.show()\n"
      ],
      "metadata": {
        "colab": {
          "base_uri": "https://localhost:8080/",
          "height": 472
        },
        "id": "BVDE3abWB5fa",
        "outputId": "d6ad06a1-df4c-4d69-eb86-f5a7118e8e46"
      },
      "execution_count": 7,
      "outputs": [
        {
          "output_type": "display_data",
          "data": {
            "text/plain": [
              "<Figure size 640x480 with 1 Axes>"
            ],
            "image/png": "[encoded data removed]"
          },
          "metadata": {}
        }
      ]
    },
    {
      "cell_type": "code",
      "source": [],
      "metadata": {
        "id": "9z-xpKEYCCE-"
      },
      "execution_count": null,
      "outputs": []
    },
    {
      "cell_type": "markdown",
      "source": [
        "12.  Write a Python function to calculate and plot the standard normal distribution (mean = 0, std = 1)\n"
      ],
      "metadata": {
        "id": "qfRQBH6ACEjU"
      }
    },
    {
      "cell_type": "code",
      "source": [
        "import numpy as np\n",
        "import matplotlib.pyplot as plt\n",
        "\n",
        "def plot_standard_normal_distribution():\n",
        "\n",
        "    data = np.random.normal(0, 1, 1000)\n",
        "\n",
        "    plt.hist(data, bins=30, edgecolor='black', density=True, alpha=0.6, color='b')\n",
        "\n",
        "    xmin, xmax = plt.xlim()\n",
        "    x = np.linspace(xmin, xmax, 100)\n",
        "    p = np.exp(-0.5 * (x ** 2)) / np.sqrt(2 * np.pi)\n",
        "    plt.plot(x, p, 'k', linewidth=2)\n",
        "\n",
        "    plt.title('Standard Normal Distribution')\n",
        "    plt.xlabel('Value')\n",
        "    plt.ylabel('Probability Density')\n",
        "\n",
        "    plt.show()\n",
        "\n",
        "plot_standard_normal_distribution()\n"
      ],
      "metadata": {
        "colab": {
          "base_uri": "https://localhost:8080/",
          "height": 472
        },
        "id": "tLzwJmsECKTn",
        "outputId": "462bd7d9-8a5d-417f-eb2d-26b1ff08cfd2"
      },
      "execution_count": 8,
      "outputs": [
        {
          "output_type": "display_data",
          "data": {
            "text/plain": [
              "<Figure size 640x480 with 1 Axes>"
            ],
            "image/png": "[encoded data removed]"
          },
          "metadata": {}
        }
      ]
    },
    {
      "cell_type": "code",
      "source": [],
      "metadata": {
        "id": "BZLRXFwBCUa9"
      },
      "execution_count": null,
      "outputs": []
    },
    {
      "cell_type": "markdown",
      "source": [
        "13.  Generate random variables and calculate their corresponding probabilities using the binomial distribution\n"
      ],
      "metadata": {
        "id": "m0ODVmWGCYBt"
      }
    },
    {
      "cell_type": "code",
      "source": [
        "import numpy as np\n",
        "import matplotlib.pyplot as plt\n",
        "from scipy.stats import binom\n",
        "\n",
        "def binomial_distribution(n, p, size):\n",
        "\n",
        "    random_variables = np.random.binomial(n, p, size)\n",
        "\n",
        "    probabilities = binom.pmf(random_variables, n, p)\n",
        "\n",
        "    return random_variables, probabilities\n",
        "\n",
        "def plot_binomial_distribution(random_variables, probabilities):\n",
        "\n",
        "    plt.hist(random_variables, bins=np.arange(random_variables.min(), random_variables.max()+1),\n",
        "             weights=probabilities, edgecolor='black', density=True, alpha=0.6, color='b')\n",
        "\n",
        "    plt.title('Binomial Distribution')\n",
        "    plt.xlabel('Random Variable')\n",
        "    plt.ylabel('Probability')\n",
        "\n",
        "    plt.show()\n",
        "\n",
        "n = 10\n",
        "p = 0.5\n",
        "size = 1000\n",
        "\n",
        "random_variables, probabilities = binomial_distribution(n, p, size)\n",
        "\n",
        "plot_binomial_distribution(random_variables, probabilities)\n"
      ],
      "metadata": {
        "colab": {
          "base_uri": "https://localhost:8080/",
          "height": 472
        },
        "id": "Tln-jIRtCo_U",
        "outputId": "41ffb5f8-d270-4b53-a4f3-76591cc018b7"
      },
      "execution_count": 9,
      "outputs": [
        {
          "output_type": "display_data",
          "data": {
            "text/plain": [
              "<Figure size 640x480 with 1 Axes>"
            ],
            "image/png": "[encoded data removed]"
          },
          "metadata": {}
        }
      ]
    },
    {
      "cell_type": "code",
      "source": [],
      "metadata": {
        "id": "GgwZOmpSCzAO"
      },
      "execution_count": null,
      "outputs": []
    },
    {
      "cell_type": "markdown",
      "source": [
        "14.  Write a Python program to calculate the Z-score for a given data point and compare it to a standard normal\n",
        "distribution"
      ],
      "metadata": {
        "id": "WChlpqNGC2eX"
      }
    },
    {
      "cell_type": "code",
      "source": [
        "import numpy as np\n",
        "import matplotlib.pyplot as plt\n",
        "from scipy.stats import norm\n",
        "\n",
        "def calculate_z_score(data_point, data):\n",
        "\n",
        "    mean = np.mean(data)\n",
        "    std_dev = np.std(data)\n",
        "    z_score = (data_point - mean) / std_dev\n",
        "    return z_score\n",
        "\n",
        "def plot_standard_normal_distribution(z_score):\n",
        "\n",
        "    x = np.linspace(-4, 4, 1000)\n",
        "    y = norm.pdf(x, 0, 1)\n",
        "\n",
        "    plt.plot(x, y, label='Standard Normal Distribution')\n",
        "\n",
        "    plt.axvline(z_score, color='r', linestyle='dashed', linewidth=2, label=f'Z-score = {z_score:.2f}')\n",
        "\n",
        "    plt.title('Standard Normal Distribution with Z-score')\n",
        "    plt.xlabel('Z-score')\n",
        "    plt.ylabel('Probability Density')\n",
        "    plt.legend()\n",
        "\n",
        "    plt.show()\n",
        "\n",
        "data = np.random.normal(0, 1, 1000)\n",
        "data_point = 0.5\n",
        "z_score = calculate_z_score(data_point, data)\n",
        "\n",
        "print(f'The Z-score for the data point {data_point} is {z_score:.2f}')\n",
        "\n",
        "plot_standard_normal_distribution(z_score)\n"
      ],
      "metadata": {
        "colab": {
          "base_uri": "https://localhost:8080/",
          "height": 489
        },
        "id": "42CI6_1ZDGAh",
        "outputId": "ebc6c20e-0245-47c1-b6e1-cc0d0020c8f2"
      },
      "execution_count": 10,
      "outputs": [
        {
          "output_type": "stream",
          "name": "stdout",
          "text": [
            "The Z-score for the data point 0.5 is 0.49\n"
          ]
        },
        {
          "output_type": "display_data",
          "data": {
            "text/plain": [
              "<Figure size 640x480 with 1 Axes>"
            ],
            "image/png": "[encoded data removed]"
          },
          "metadata": {}
        }
      ]
    },
    {
      "cell_type": "code",
      "source": [],
      "metadata": {
        "id": "7ayfF1YnDSO1"
      },
      "execution_count": null,
      "outputs": []
    },
    {
      "cell_type": "markdown",
      "source": [
        "15.  Implement hypothesis testing using Z-statistics for a sample dataset\n"
      ],
      "metadata": {
        "id": "ma5WrfZLDYEE"
      }
    },
    {
      "cell_type": "code",
      "source": [
        "import numpy as np\n",
        "from scipy import stats\n",
        "\n",
        "def z_test(sample_data, population_mean, population_std, alpha=0.05):\n",
        "\n",
        "    sample_mean = np.mean(sample_data)\n",
        "    sample_size = len(sample_data)\n",
        "    standard_error = population_std / np.sqrt(sample_size)\n",
        "    z_statistic = (sample_mean - population_mean) / standard_error\n",
        "    p_value = 2 * (1 - stats.norm.cdf(abs(z_statistic)))\n",
        "\n",
        "    z_critical = stats.norm.ppf(1 - alpha / 2)\n",
        "    decision = \"Reject the null hypothesis\" if abs(z_statistic) > z_critical else \"Fail to reject the null hypothesis\"\n",
        "\n",
        "    return z_statistic, p_value, decision\n",
        "\n",
        "sample_data = np.random.normal(0, 1, 30)\n",
        "population_mean = 0\n",
        "population_std = 1\n",
        "\n",
        "z_statistic, p_value, decision = z_test(sample_data, population_mean, population_std)\n",
        "\n",
        "print(f'Z-statistic: {z_statistic:.2f}')\n",
        "print(f'P-value: {p_value:.2f}')\n",
        "print(f'Decision: {decision}')\n"
      ],
      "metadata": {
        "colab": {
          "base_uri": "https://localhost:8080/"
        },
        "id": "rzOIunTCDf27",
        "outputId": "8382302e-7088-4aeb-e2d3-560298e269a5"
      },
      "execution_count": 11,
      "outputs": [
        {
          "output_type": "stream",
          "name": "stdout",
          "text": [
            "Z-statistic: 0.48\n",
            "P-value: 0.63\n",
            "Decision: Fail to reject the null hypothesis\n"
          ]
        }
      ]
    },
    {
      "cell_type": "code",
      "source": [],
      "metadata": {
        "id": "P4_RMjUgDnnW"
      },
      "execution_count": null,
      "outputs": []
    },
    {
      "cell_type": "markdown",
      "source": [
        "16.  Create a confidence interval for a dataset using Python and interpret the result\n"
      ],
      "metadata": {
        "id": "pLV5xkJTDuls"
      }
    },
    {
      "cell_type": "code",
      "source": [
        "import numpy as np\n",
        "from scipy import stats\n",
        "\n",
        "data = np.array([25, 28, 31, 24, 27, 26, 29, 30, 28, 27])\n",
        "\n",
        "sample_mean = np.mean(data)\n",
        "sample_std = np.std(data, ddof=1)\n",
        "\n",
        "\n",
        "confidence_level = 0.95\n",
        "\n",
        "degrees_of_freedom = len(data) - 1\n",
        "\n",
        "t_critical = stats.t.ppf((1 + confidence_level) / 2, degrees_of_freedom)\n",
        "\n",
        "margin_of_error = t_critical * (sample_std / np.sqrt(len(data)))\n",
        "\n",
        "confidence_interval = (sample_mean - margin_of_error, sample_mean + margin_of_error)\n",
        "\n",
        "print(f\"Confidence Interval: {confidence_interval}\")"
      ],
      "metadata": {
        "colab": {
          "base_uri": "https://localhost:8080/"
        },
        "id": "EcxLCvU_DzmB",
        "outputId": "1f06291f-2761-4a25-cb78-8c9f3286acac"
      },
      "execution_count": 14,
      "outputs": [
        {
          "output_type": "stream",
          "name": "stdout",
          "text": [
            "Confidence Interval: (25.94548117930083, 29.05451882069917)\n"
          ]
        }
      ]
    },
    {
      "cell_type": "code",
      "source": [],
      "metadata": {
        "id": "5OxxP5OYD5qm"
      },
      "execution_count": null,
      "outputs": []
    },
    {
      "cell_type": "markdown",
      "source": [
        "17.  Generate data from a normal distribution, then calculate and interpret the confidence interval for its mean\n"
      ],
      "metadata": {
        "id": "eYOQFRnfFF9W"
      }
    },
    {
      "cell_type": "code",
      "source": [
        "import numpy as np\n",
        "from scipy import stats\n",
        "\n",
        "def generate_data(mean, std_dev, size):\n",
        "\n",
        "    return np.random.normal(mean, std_dev, size)\n",
        "\n",
        "def confidence_interval(data, confidence=0.95):\n",
        "\n",
        "    n = len(data)\n",
        "    mean = np.mean(data)\n",
        "    std_err = stats.sem(data)\n",
        "    margin_of_error = std_err * stats.t.ppf((1 + confidence) / 2, n - 1)\n",
        "\n",
        "    return mean - margin_of_error, mean + margin_of_error\n",
        "\n",
        "data = generate_data(mean=0, std_dev=1, size=100)  # Generate sample data from a normal distribution\n",
        "conf_int = confidence_interval(data)\n",
        "\n",
        "print(f'The 95% confidence interval for the mean is {conf_int}')\n",
        "\n",
        "sample_mean = np.mean(data)\n",
        "print(f'The mean of the sample data is approximately {sample_mean:.2f}')\n",
        "print(f'This means that we are 95% confident that the true population mean lies between {conf_int[0]:.2f} and {conf_int[1]:.2f}')\n"
      ],
      "metadata": {
        "colab": {
          "base_uri": "https://localhost:8080/"
        },
        "id": "CvBITom9FL7y",
        "outputId": "712f024f-1925-4eb4-f46d-5796d86e12d5"
      },
      "execution_count": 15,
      "outputs": [
        {
          "output_type": "stream",
          "name": "stdout",
          "text": [
            "The 95% confidence interval for the mean is (-0.0323063813277244, 0.35921895403204157)\n",
            "The mean of the sample data is approximately 0.16\n",
            "This means that we are 95% confident that the true population mean lies between -0.03 and 0.36\n"
          ]
        }
      ]
    },
    {
      "cell_type": "code",
      "source": [],
      "metadata": {
        "id": "x-THDM-sFW-1"
      },
      "execution_count": null,
      "outputs": []
    },
    {
      "cell_type": "markdown",
      "source": [
        "18.  Write a Python script to calculate and visualize the probability density function (PDF) of a normal distribution\n"
      ],
      "metadata": {
        "id": "epqfbRCyFZIU"
      }
    },
    {
      "cell_type": "code",
      "source": [
        "import numpy as np\n",
        "import matplotlib.pyplot as plt\n",
        "from scipy.stats import norm\n",
        "\n",
        "def plot_pdf(mean, std_dev):\n",
        "\n",
        "    x = np.linspace(mean - 4*std_dev, mean + 4*std_dev, 1000)\n",
        "    y = norm.pdf(x, mean, std_dev)\n",
        "\n",
        "    plt.plot(x, y, label=f'N({mean}, {std_dev}^2)')\n",
        "    plt.title('Probability Density Function of a Normal Distribution')\n",
        "    plt.xlabel('Value')\n",
        "    plt.ylabel('Probability Density')\n",
        "    plt.legend()\n",
        "    plt.grid(True)\n",
        "    plt.show()\n",
        "\n",
        "mean = 0\n",
        "std_dev = 1"
      ],
      "metadata": {
        "id": "WjYku5KnFeBx"
      },
      "execution_count": 17,
      "outputs": []
    },
    {
      "cell_type": "code",
      "source": [],
      "metadata": {
        "id": "pfmraTeQFpNd"
      },
      "execution_count": 16,
      "outputs": []
    },
    {
      "cell_type": "markdown",
      "source": [
        "19.  Use Python to calculate and interpret the cumulative distribution function (CDF) of a Poisson distribution\n"
      ],
      "metadata": {
        "id": "gdAdxZ8QFtAk"
      }
    },
    {
      "cell_type": "code",
      "source": [
        "import numpy as np\n",
        "import matplotlib.pyplot as plt\n",
        "from scipy.stats import poisson\n",
        "\n",
        "def plot_poisson_cdf(lam, max_value):\n",
        "\n",
        "    x = np.arange(0, max_value + 1)\n",
        "    cdf_values = poisson.cdf(x, lam)\n",
        "\n",
        "    plt.step(x, cdf_values, where='mid', label=f'λ = {lam}')\n",
        "    plt.title('Cumulative Distribution Function of a Poisson Distribution')\n",
        "    plt.xlabel('Number of Events')\n",
        "    plt.ylabel('Cumulative Probability')\n",
        "    plt.legend()\n",
        "    plt.grid(True)\n",
        "    plt.show()\n",
        "\n",
        "lambda_value = 3\n",
        "max_value = 15\n",
        "plot_poisson_cdf(lambda_value, max_value)\n"
      ],
      "metadata": {
        "colab": {
          "base_uri": "https://localhost:8080/",
          "height": 472
        },
        "id": "RZajvHMBFxNp",
        "outputId": "f1f80cb4-a364-41f4-d76a-a3bbd7f6a261"
      },
      "execution_count": 18,
      "outputs": [
        {
          "output_type": "display_data",
          "data": {
            "text/plain": [
              "<Figure size 640x480 with 1 Axes>"
            ],
            "image/png": "[encoded data removed]"
          },
          "metadata": {}
        }
      ]
    },
    {
      "cell_type": "code",
      "source": [],
      "metadata": {
        "id": "xjPnR9ipF6HF"
      },
      "execution_count": null,
      "outputs": []
    },
    {
      "cell_type": "markdown",
      "source": [
        "20.  Simulate a random variable using a continuous uniform distribution and calculate its expected value\n"
      ],
      "metadata": {
        "id": "alojmVr4F-Ps"
      }
    },
    {
      "cell_type": "code",
      "source": [
        "import numpy as np\n",
        "\n",
        "low = 0\n",
        "high = 1\n",
        "size = 1000\n",
        "\n",
        "random_variables = np.random.uniform(low, high, size)\n",
        "\n",
        "expected_value = np.mean(random_variables)\n",
        "\n",
        "print(f'The expected value of the uniform distribution is approximately {expected_value:.2f}')\n"
      ],
      "metadata": {
        "colab": {
          "base_uri": "https://localhost:8080/"
        },
        "id": "sl23xWv2GFNC",
        "outputId": "fe464b2a-5e36-4523-fc16-d57d882f0a53"
      },
      "execution_count": 19,
      "outputs": [
        {
          "output_type": "stream",
          "name": "stdout",
          "text": [
            "The expected value of the uniform distribution is approximately 0.48\n"
          ]
        }
      ]
    },
    {
      "cell_type": "code",
      "source": [],
      "metadata": {
        "id": "CPhO3zWjGKP1"
      },
      "execution_count": null,
      "outputs": []
    },
    {
      "cell_type": "markdown",
      "source": [
        "21.  Write a Python program to compare the standard deviations of two datasets and visualize the difference\n"
      ],
      "metadata": {
        "id": "dAtoQ1luGM8M"
      }
    },
    {
      "cell_type": "code",
      "source": [
        "import numpy as np\n",
        "import matplotlib.pyplot as plt\n",
        "\n",
        "def generate_datasets(size):\n",
        "\n",
        "    data1 = np.random.normal(0, 1, size)  # Dataset 1: mean=0, std=1\n",
        "    data2 = np.random.normal(0, 2, size)  # Dataset 2: mean=0, std=2\n",
        "    return data1, data2\n",
        "\n",
        "def calculate_standard_deviation(data):\n",
        "\n",
        "    return np.std(data)\n",
        "\n",
        "def plot_datasets(data1, data2):\n",
        "\n",
        "    plt.hist(data1, bins=30, alpha=0.5, label=f'Dataset 1 (std={np.std(data1):.2f})', color='blue', edgecolor='black')\n",
        "    plt.hist(data2, bins=30, alpha=0.5, label=f'Dataset 2 (std={np.std(data2):.2f})', color='orange', edgecolor='black')\n",
        "    plt.title('Comparison of Standard Deviations')\n",
        "    plt.xlabel('Value')\n",
        "    plt.ylabel('Frequency')\n",
        "    plt.legend()\n",
        "    plt.grid(True)\n",
        "    plt.show()\n",
        "\n",
        "size = 1000\n",
        "data1, data2 = generate_datasets(size)\n",
        "\n",
        "std_dev1 = calculate_standard_deviation(data1)\n",
        "std_dev2 = calculate_standard_deviation(data2)\n",
        "plot_datasets(data1, data2)"
      ],
      "metadata": {
        "colab": {
          "base_uri": "https://localhost:8080/",
          "height": 472
        },
        "id": "nifUKyvSGSpz",
        "outputId": "4beb9b68-b454-4b19-b045-24ca7ea3bc51"
      },
      "execution_count": 21,
      "outputs": [
        {
          "output_type": "display_data",
          "data": {
            "text/plain": [
              "<Figure size 640x480 with 1 Axes>"
            ],
            "image/png": "[encoded data removed]"
          },
          "metadata": {}
        }
      ]
    },
    {
      "cell_type": "code",
      "source": [],
      "metadata": {
        "id": "wPp6psr6Gg5N"
      },
      "execution_count": null,
      "outputs": []
    },
    {
      "cell_type": "markdown",
      "source": [
        "22.  Calculate the range and interquartile range (IQR) of a dataset generated from a normal distribution\n"
      ],
      "metadata": {
        "id": "pn2xZy1lG2ZV"
      }
    },
    {
      "cell_type": "code",
      "source": [
        "import numpy as np\n",
        "\n",
        "def generate_normal_data(mean, std_dev, size):\n",
        "\n",
        "    return np.random.normal(mean, std_dev, size)\n",
        "\n",
        "def calculate_range(data):\n",
        "\n",
        "    return np.max(data) - np.min(data)\n",
        "\n",
        "def calculate_iqr(data):\n",
        "\n",
        "    q1 = np.percentile(data, 25)\n",
        "    q3 = np.percentile(data, 75)\n",
        "    return q3 - q1\n",
        "\n",
        "data = generate_normal_data(mean=0, std_dev=1, size=1000)\n",
        "\n",
        "range_value = calculate_range(data)\n",
        "iqr_value = calculate_iqr(data)\n",
        "\n",
        "print(f'The range of the dataset is {range_value:.2f}')\n",
        "print(f'The interquartile range (IQR) of the dataset is {iqr_value:.2f}')\n"
      ],
      "metadata": {
        "colab": {
          "base_uri": "https://localhost:8080/"
        },
        "id": "yK6By-gMHCtV",
        "outputId": "7258f635-c138-4ef9-d667-157915291e98"
      },
      "execution_count": 22,
      "outputs": [
        {
          "output_type": "stream",
          "name": "stdout",
          "text": [
            "The range of the dataset is 6.54\n",
            "The interquartile range (IQR) of the dataset is 1.41\n"
          ]
        }
      ]
    },
    {
      "cell_type": "code",
      "source": [],
      "metadata": {
        "id": "dnjd44eeHJ1d"
      },
      "execution_count": null,
      "outputs": []
    },
    {
      "cell_type": "markdown",
      "source": [
        "23.  Implement Z-score normalization on a dataset and visualize its transformation\n"
      ],
      "metadata": {
        "id": "CIe0ZV4oHRJM"
      }
    },
    {
      "cell_type": "code",
      "source": [
        "import numpy as np\n",
        "import matplotlib.pyplot as plt\n",
        "\n",
        "def generate_data(size):\n",
        "\n",
        "    return np.random.normal(10, 5, size)  # mean=10, std=5\n",
        "\n",
        "def z_score_normalization(data):\n",
        "\n",
        "    mean = np.mean(data)\n",
        "    std_dev = np.std(data)\n",
        "    return (data - mean) / std_dev\n",
        "\n",
        "def plot_data(original_data, normalized_data):\n",
        "\n",
        "    fig, axs = plt.subplots(1, 2, figsize=(12, 6))\n",
        "\n",
        "\n",
        "    axs[0].hist(original_data, bins=30, edgecolor='black', alpha=0.7)\n",
        "    axs[0].set_title('Original Data')\n",
        "    axs[0].set_xlabel('Value')\n",
        "    axs[0].set_ylabel('Frequency')\n",
        "\n",
        "    axs[1].hist(normalized_data, bins=30, edgecolor='black', alpha=0.7)\n",
        "    axs[1].set_title('Normalized Data')\n",
        "    axs[1].set_xlabel('Z-score')\n",
        "    axs[1].set_ylabel('Frequency')\n",
        "\n",
        "    plt.tight_layout()\n",
        "    plt.show()\n",
        "\n",
        "data = generate_data(size=1000)\n",
        "normalized_data = z_score_normalization(data)\n",
        "\n",
        "plot_data(data, normalized_data)\n"
      ],
      "metadata": {
        "colab": {
          "base_uri": "https://localhost:8080/",
          "height": 607
        },
        "id": "qRB5EKf_HUyj",
        "outputId": "0378021b-243e-4345-b0eb-66791f63d4dd"
      },
      "execution_count": 23,
      "outputs": [
        {
          "output_type": "display_data",
          "data": {
            "text/plain": [
              "<Figure size 1200x600 with 2 Axes>"
            ],
            "image/png": "[encoded data removed]"
          },
          "metadata": {}
        }
      ]
    },
    {
      "cell_type": "code",
      "source": [],
      "metadata": {
        "id": "zyKwNaUvHi5V"
      },
      "execution_count": null,
      "outputs": []
    },
    {
      "cell_type": "markdown",
      "source": [
        "24.  Write a Python function to calculate the skewness and kurtosis of a dataset generated from a normal\n",
        "distribution"
      ],
      "metadata": {
        "id": "f73EgsTPHmlk"
      }
    },
    {
      "cell_type": "code",
      "source": [
        "import numpy as np\n",
        "from scipy.stats import skew, kurtosis\n",
        "\n",
        "def generate_normal_data(mean, std_dev, size):\n",
        "\n",
        "    return np.random.normal(mean, std_dev, size)\n",
        "\n",
        "def calculate_skewness(data):\n",
        "\n",
        "    return skew(data)\n",
        "\n",
        "def calculate_kurtosis(data):\n",
        "\n",
        "    return kurtosis(data)\n",
        "\n",
        "data = generate_normal_data(mean=0, std_dev=1, size=1000)\n",
        "skewness = calculate_skewness(data)\n",
        "kurtosis_value = calculate_kurtosis(data)\n",
        "\n",
        "print(f'The skewness of the dataset is {skewness:.2f}')\n",
        "print(f'The kurtosis of the dataset is {kurtosis_value:.2f}')\n"
      ],
      "metadata": {
        "colab": {
          "base_uri": "https://localhost:8080/"
        },
        "id": "X7HvSNsvHsWh",
        "outputId": "d833bf3b-4e1f-4a37-a894-1278c1830436"
      },
      "execution_count": 25,
      "outputs": [
        {
          "output_type": "stream",
          "name": "stdout",
          "text": [
            "The skewness of the dataset is -0.10\n",
            "The kurtosis of the dataset is -0.23\n"
          ]
        }
      ]
    },
    {
      "cell_type": "code",
      "source": [],
      "metadata": {
        "id": "8tLdyt7NHz9N"
      },
      "execution_count": null,
      "outputs": []
    }
  ]
}